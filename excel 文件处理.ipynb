{
 "cells": [
  {
   "cell_type": "markdown",
   "metadata": {},
   "source": [
    "## 1、文件读取  \n",
    "\n",
    "```\n",
    "import pandas as pd\n",
    "\n",
    "file_name = \"file_name.xlsx\"\n",
    "df = pd.read_excel(file_name)\n",
    "df.fillna(\"\", inplace=True)\n",
    "for index, row in df.iterrows():\n",
    "    print(row)\n",
    "```"
   ]
  },
  {
   "cell_type": "markdown",
   "metadata": {},
   "source": [
    "## 2、文件存储  \n",
    "\n",
    "```\n",
    "import csv\n",
    "result_file = \"result_name.csv\"\n",
    "dst_file = open(result_file, 'w', newline='', encoding='utf-8-sig')\n",
    "writer = csv.writer(dst_file)\n",
    "writer.writerow([\"id\", \"dt\", \"url\", \"title\", \"con\"])\n",
    "...\n",
    "dst_file.close()\n",
    "```"
   ]
  }
 ],
 "metadata": {
  "anaconda-cloud": {},
  "kernelspec": {
   "display_name": "Python [default]",
   "language": "python",
   "name": "python2"
  },
  "language_info": {
   "codemirror_mode": {
    "name": "ipython",
    "version": 2
   },
   "file_extension": ".py",
   "mimetype": "text/x-python",
   "name": "python",
   "nbconvert_exporter": "python",
   "pygments_lexer": "ipython2",
   "version": "2.7.12"
  }
 },
 "nbformat": 4,
 "nbformat_minor": 1
}
