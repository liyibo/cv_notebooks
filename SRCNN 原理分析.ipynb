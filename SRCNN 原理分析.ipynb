{
 "cells": [
  {
   "cell_type": "markdown",
   "metadata": {},
   "source": [
    "# Image Super-Resolution Using Deep Convolutional Networks"
   ]
  },
  {
   "cell_type": "markdown",
   "metadata": {},
   "source": [
    "单幅图像超分辨率（SR），旨在从一个单一的低分辨率图像恢复高分辨率的图像，是计算机视觉中的经典问题。  \n",
    "该文章提出了一个全卷积神经网络的方法，直接学习低分辨率图像和高分辨率图像之间的端到端映射，几乎没有预处理/后处理。"
   ]
  },
  {
   "cell_type": "markdown",
   "metadata": {},
   "source": [
    "## 摘要  \n",
    "\n",
    "1 对原始分辨率的图像进行下采样和上采样，构建对应的低分辨率图像，作为网络的训练数据，原始分辨率图像作为label  \n",
    "2 在原始图像上，有重叠的截取大小为33×33的的图像块，作为网络输入x，对应21×21大小的图像块作为label  \n",
    "3 以网络的输出和label 之间的均方误差作为网络的损失函数，优化网络参数  \n",
    "4 有人说用训练数据以14为步长，截取图像块，测试数据以21位步长截取图像块，可以缓解block artifacts"
   ]
  },
  {
   "cell_type": "markdown",
   "metadata": {},
   "source": [
    "### 1 训练数据准备  \n",
    "\n",
    "1 根据91幅图像，以14位步长，截取大小为33×33的有重叠的图像块，共24800个输入图像，对应的label是24800个21×21大小的高分辨率图像块  \n",
    "2 输入数据x:将原始图像下采样然后上采样3倍，这样构造低分辨率输入图像，然后有重叠的截取图像块，作为输入  \n",
    "3 输入数据对应的高分辨率图像label：在原始图像上，有重叠的截取大小为21×21的图像块，作为低分辨率图像对应的高分辨率图像，作为label  \n",
    "4 网络结构卷积核的大小和个数分别为9x9x64, 1x1x32 和5x5x1的三层卷积网络  \n",
    "5 33×33大小的图像经过9x9, 1x1和5x5的卷积之后，是21×21大小，可以与label对应起来计算loss"
   ]
  },
  {
   "cell_type": "code",
   "execution_count": null,
   "metadata": {
    "collapsed": true
   },
   "outputs": [],
   "source": [
    "def preprocess(path, scale=3):\n",
    "  \"\"\"\n",
    "  输入图像作为label，经过采样之后的图像作为低分辨率输入图像\n",
    "  Preprocess single image file \n",
    "    (1) Read original image as YCbCr format (and grayscale as default)\n",
    "    (2) Normalize\n",
    "    (3) Apply image file with bicubic interpolation\n",
    "\n",
    "  Args:\n",
    "    path: file path of desired file\n",
    "    input_: image applied bicubic interpolation (low-resolution)\n",
    "    label_: image with original resolution (high-resolution)\n",
    "  \"\"\"\n",
    "  image = imread(path, is_grayscale=True)\n",
    "  label_ = modcrop(image, scale)\n",
    "\n",
    "  # Must be normalized\n",
    "  image = image / 255.\n",
    "  label_ = label_ / 255.\n",
    "\n",
    "  input_ = scipy.ndimage.interpolation.zoom(label_, (1./scale), prefilter=False)\n",
    "  input_ = scipy.ndimage.interpolation.zoom(input_, (scale/1.), prefilter=False)\n",
    "\n",
    "  return input_, label_\n",
    "\n",
    "\"\"\"\n",
    "config.stride : 14\n",
    "config.image_size : 33\n",
    "config.label_size : 21\n",
    "padding : 12/2 = 6\n",
    "构建网络输入x 和 对应的标签 label\n",
    "\"\"\"\n",
    "for x in range(0, h-config.image_size+1, config.stride):\n",
    "    for y in range(0, w-config.image_size+1, config.stride):\n",
    "      sub_input = input_[x:x+config.image_size, y:y+config.image_size] # [33 x 33]\n",
    "      sub_label = label_[x+padding:x+padding+config.label_size, y+padding:y+padding+config.label_size] # [21 x 21]\n",
    "\n",
    "      # Make channel value\n",
    "      sub_input = sub_input.reshape([config.image_size, config.image_size, 1])  \n",
    "      sub_label = sub_label.reshape([config.label_size, config.label_size, 1])\n",
    "\n",
    "      sub_input_sequence.append(sub_input)\n",
    "      sub_label_sequence.append(sub_label)"
   ]
  },
  {
   "cell_type": "markdown",
   "metadata": {},
   "source": [
    "### 2 构建网络模型  \n",
    "\n",
    "1 网络结构十分简单，用了三个卷积层，三个卷积层使用的卷积核的大小和个数分别为9x9x64, 1x1x32 和5x5x1  \n",
    "2 网络的损失函数也比较简单，是网络输出与label之间的mse"
   ]
  },
  {
   "cell_type": "code",
   "execution_count": null,
   "metadata": {
    "collapsed": true
   },
   "outputs": [],
   "source": [
    "def build_model(self):\n",
    "    self.images = tf.placeholder(tf.float32, [None, self.image_size, self.image_size, self.c_dim], name='images')\n",
    "    self.labels = tf.placeholder(tf.float32, [None, self.label_size, self.label_size, self.c_dim], name='labels')\n",
    "    \n",
    "    self.weights = {\n",
    "      'w1': tf.Variable(tf.random_normal([9, 9, 1, 64], stddev=1e-3), name='w1'),\n",
    "      'w2': tf.Variable(tf.random_normal([1, 1, 64, 32], stddev=1e-3), name='w2'),\n",
    "      'w3': tf.Variable(tf.random_normal([5, 5, 32, 1], stddev=1e-3), name='w3')\n",
    "    }\n",
    "    self.biases = {\n",
    "      'b1': tf.Variable(tf.zeros([64]), name='b1'),\n",
    "      'b2': tf.Variable(tf.zeros([32]), name='b2'),\n",
    "      'b3': tf.Variable(tf.zeros([1]), name='b3')\n",
    "    }\n",
    "\n",
    "    self.pred = self.model()\n",
    "\n",
    "    # Loss function (MSE)\n",
    "    self.loss = tf.reduce_mean(tf.square(self.labels - self.pred))\n",
    "    \n",
    "def model(self):\n",
    "    conv1 = tf.nn.relu(tf.nn.conv2d(self.images, self.weights['w1'], strides=[1,1,1,1], padding='VALID') + self.biases['b1'])\n",
    "    conv2 = tf.nn.relu(tf.nn.conv2d(conv1, self.weights['w2'], strides=[1,1,1,1], padding='VALID') + self.biases['b2'])\n",
    "    conv3 = tf.nn.conv2d(conv2, self.weights['w3'], strides=[1,1,1,1], padding='VALID') + self.biases['b3']\n",
    "    return conv3\n",
    "\n",
    "self.train_op = tf.train.GradientDescentOptimizer(config.learning_rate).minimize(self.loss)"
   ]
  },
  {
   "cell_type": "markdown",
   "metadata": {},
   "source": [
    "### 3 测试数据准备与输出  \n",
    "\n",
    "1 根据测试图片截取大小为33×33的有重叠的图像块  \n",
    "2 送入网络，前向运算，输出结果  \n",
    "3 merge输出的图像块，拼成测试图像对应的高分辨率图像"
   ]
  },
  {
   "cell_type": "code",
   "execution_count": null,
   "metadata": {
    "collapsed": true
   },
   "outputs": [],
   "source": [
    "\"\"\"\n",
    "构建测试数据图像块\n",
    "\"\"\"\n",
    "# Numbers of sub-images in height and width of image are needed to compute merge operation.\n",
    "nx = ny = 0 \n",
    "for x in range(0, h-config.image_size+1, config.stride):\n",
    "  nx += 1; ny = 0\n",
    "  for y in range(0, w-config.image_size+1, config.stride):\n",
    "    ny += 1\n",
    "    sub_input = input_[x:x+config.image_size, y:y+config.image_size] # [33 x 33]\n",
    "    sub_label = label_[x+padding:x+padding+config.label_size, y+padding:y+padding+config.label_size] # [21 x 21]\n",
    "\n",
    "    sub_input = sub_input.reshape([config.image_size, config.image_size, 1])  \n",
    "    sub_label = sub_label.reshape([config.label_size, config.label_size, 1])\n",
    "\n",
    "    sub_input_sequence.append(sub_input)\n",
    "    sub_label_sequence.append(sub_label)\n",
    "\n",
    "\"\"\"\n",
    "前向运行网络\n",
    "\"\"\"\n",
    "result = self.pred.eval({self.images: train_data, self.labels: train_label})\n",
    "\n",
    "\"\"\"\n",
    "输出结果merge，存图\n",
    "\"\"\"\n",
    "result = merge(result, [nx, ny])\n",
    "result = result.squeeze()\n",
    "image_path = os.path.join(os.getcwd(), config.sample_dir)\n",
    "image_path = os.path.join(image_path, \"test_image.png\")\n",
    "imsave(result, image_path)\n",
    "\n",
    "def merge(images, size):\n",
    "  h, w = images.shape[1], images.shape[2]\n",
    "  img = np.zeros((h*size[0], w*size[1], 1))\n",
    "  for idx, image in enumerate(images):\n",
    "    i = idx % size[1]\n",
    "    j = idx // size[1]\n",
    "    img[j*h:j*h+h, i*w:i*w+w, :] = image\n",
    "\n",
    "  return img"
   ]
  }
 ],
 "metadata": {
  "anaconda-cloud": {},
  "kernelspec": {
   "display_name": "Python [default]",
   "language": "python",
   "name": "python2"
  },
  "language_info": {
   "codemirror_mode": {
    "name": "ipython",
    "version": 2
   },
   "file_extension": ".py",
   "mimetype": "text/x-python",
   "name": "python",
   "nbconvert_exporter": "python",
   "pygments_lexer": "ipython2",
   "version": "2.7.12"
  }
 },
 "nbformat": 4,
 "nbformat_minor": 1
}
